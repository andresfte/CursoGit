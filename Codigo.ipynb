{
 "cells": [
  {
   "cell_type": "markdown",
   "metadata": {},
   "source": [
    "con git branch buscamos la carpeta que deseamos tener un control de cambios y\n",
    "<br> git init\n",
    "<br> git crea un control de cambios a esta carpeta\n",
    "\n",
    "con git status muestra el estado del control de cambios, si hay archivos nuevos, carpetas nuevas, si se han guardado los cambiado o commit\n",
    "\n",
    "Existen varias ramas de trabajo, se pueden estar trabajando en la misma ramo o varias ramas al tiempo\n",
    "\n",
    "en vscode tambien esta el manejo de git, commit, se muestra el control de cambios y se sube tambien los cambios\n"
   ]
  },
  {
   "cell_type": "markdown",
   "metadata": {},
   "source": [
    "Para agregar archivos\n",
    "<br> git add \"nombre archivo\"\n",
    "<br> Pero si son varios archivos con\n",
    "<br> git add --all"
   ]
  },
  {
   "cell_type": "markdown",
   "metadata": {},
   "source": [
    "ahora se realiza un commit para guardar los cambios realizados\n",
    "<br> git commit -m \"Se puso un titulo\""
   ]
  },
  {
   "cell_type": "markdown",
   "metadata": {},
   "source": [
    "para subirlo a github, se crea un repositorio, luego desde la terminal se escribe\n",
    "<br> git commit -m \"first commit\"\n",
    "<br> git remote add origin https://github.com/andresfte/CursoGit.git\n",
    "<br> git branch -M main\n",
    "<br> git push -u origin main"
   ]
  },
  {
   "cell_type": "markdown",
   "metadata": {},
   "source": [
    "Hay que mirar si se debe realizar por terminal o por vscode la actualizacion commit y push"
   ]
  }
 ],
 "metadata": {
  "language_info": {
   "name": "python"
  }
 },
 "nbformat": 4,
 "nbformat_minor": 2
}
