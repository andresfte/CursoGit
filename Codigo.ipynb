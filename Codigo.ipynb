{
 "cells": [
  {
   "cell_type": "markdown",
   "metadata": {},
   "source": [
    "con git branch buscamos la carpeta que deseamos tener un control de cambios y\n",
    "<br> git init\n",
    "<br> git crea un control de cambios a esta carpeta\n",
    "\n",
    "con git status muestra el estado del control de cambios, si hay archivos nuevos, carpetas nuevas, si se han guardado los cambiado o commit\n",
    "\n",
    "Existen vaias ramos de trabajo, se pueden estar trabajando en la misma ramo o varias ramas al tiempo\n"
   ]
  },
  {
   "cell_type": "markdown",
   "metadata": {},
   "source": [
    "Para agragar archivos\n",
    "<br> git add \"nombre archivo\"\n",
    "<br> Pero si son varios archivos con\n",
    "<br> git add --all"
   ]
  },
  {
   "cell_type": "markdown",
   "metadata": {},
   "source": [
    "Luego de modificar el archivo se raliza un commit\n",
    "git commit -m \"se agrego un titulo\""
   ]
  }
 ],
 "metadata": {
  "language_info": {
   "name": "python"
  }
 },
 "nbformat": 4,
 "nbformat_minor": 2
}
